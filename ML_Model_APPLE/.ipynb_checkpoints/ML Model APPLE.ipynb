{
 "cells": [
  {
   "cell_type": "code",
   "execution_count": 13,
   "id": "08d6df89",
   "metadata": {},
   "outputs": [],
   "source": [
    "import numpy as np\n",
    "import pandas as pd\n",
    "import tensorflow as tf\n",
    "from tensorflow.keras.preprocessing.image import ImageDataGenerator"
   ]
  },
  {
   "cell_type": "code",
   "execution_count": 4,
   "id": "d705f366",
   "metadata": {},
   "outputs": [],
   "source": [
    "import os\n",
    "import shutil\n",
    "from sklearn.model_selection import train_test_split\n",
    "import random"
   ]
  },
  {
   "cell_type": "code",
   "execution_count": 5,
   "id": "9e65bc27-68f2-4618-b254-4810fbb45fd8",
   "metadata": {},
   "outputs": [],
   "source": [
    "source_dir = \"/Users/pavan/Downloads/minor dataset/plantvillage dataset/APPLE\"  \n",
    "train_dir = \"/Users/pavan/Downloads/minor dataset/plantvillage dataset/train\"  \n",
    "test_dir = \"/Users/pavan/Downloads/minor dataset/plantvillage dataset/test\"  "
   ]
  },
  {
   "cell_type": "code",
   "execution_count": 6,
   "id": "25d90eab-8b53-4f07-ab50-bc9c5dbdbc4a",
   "metadata": {},
   "outputs": [],
   "source": [
    "os.makedirs(train_dir, exist_ok=True)\n",
    "os.makedirs(test_dir, exist_ok=True)"
   ]
  },
  {
   "cell_type": "code",
   "execution_count": 7,
   "id": "229e042a-0612-4899-b20d-88cf2e91ed61",
   "metadata": {},
   "outputs": [],
   "source": [
    "# Function to split data into train and test sets\n",
    "def split_data(source_dir, train_dir, test_dir, test_size=0.2):\n",
    "    for class_name in os.listdir(source_dir):\n",
    "        class_path = os.path.join(source_dir, class_name)\n",
    "        \n",
    "        if not os.path.isdir(class_path):\n",
    "            continue  \n",
    "        \n",
    "        os.makedirs(os.path.join(train_dir, class_name), exist_ok=True)\n",
    "        os.makedirs(os.path.join(test_dir, class_name), exist_ok=True)\n",
    "        \n",
    "        images = os.listdir(class_path)\n",
    "        \n",
    "        # Split images into train and test sets\n",
    "        train_images, test_images = train_test_split(images, test_size=test_size, random_state=42)\n",
    "        \n",
    "        # Copy images to respective directories\n",
    "        for img in train_images:\n",
    "            src = os.path.join(class_path, img)\n",
    "            dst = os.path.join(train_dir, class_name, img)\n",
    "            shutil.copy(src, dst)\n",
    "        \n",
    "        for img in test_images:\n",
    "            src = os.path.join(class_path, img)\n",
    "            dst = os.path.join(test_dir, class_name, img)\n",
    "            shutil.copy(src, dst)\n"
   ]
  },
  {
   "cell_type": "code",
   "execution_count": 8,
   "id": "e578ea05-5dc0-41ae-bd39-e66d561c467a",
   "metadata": {},
   "outputs": [],
   "source": [
    "# Function to oversample the minority classes in the training set\n",
    "def oversample_class(class_dir, target_count):\n",
    "    file_list = os.listdir(class_dir)\n",
    "    current_count = len(file_list)\n",
    "    \n",
    "    while current_count < target_count:\n",
    "        file_to_copy = random.choice(file_list)\n",
    "        src = os.path.join(class_dir, file_to_copy)\n",
    "        new_file_name = f\"copy_{current_count}_{file_to_copy}\"\n",
    "        dst = os.path.join(class_dir, new_file_name)\n",
    "        shutil.copy(src, dst)\n",
    "        current_count += 1"
   ]
  },
  {
   "cell_type": "code",
   "execution_count": 9,
   "id": "44932ac5-ae6e-4824-865c-85a5c289606c",
   "metadata": {},
   "outputs": [],
   "source": [
    "# Function to oversample all classes to match the largest class\n",
    "def oversample_dataset(train_dir, target_count=1500):\n",
    "    for class_name in os.listdir(train_dir):\n",
    "        class_path = os.path.join(train_dir, class_name)\n",
    "        \n",
    "        if os.path.isdir(class_path):\n",
    "            current_count = len(os.listdir(class_path))\n",
    "            if current_count < target_count:\n",
    "                oversample_class(class_path, target_count)"
   ]
  },
  {
   "cell_type": "code",
   "execution_count": 10,
   "id": "a999c6f9-f0f8-4bc7-b93e-956ea488b5ab",
   "metadata": {},
   "outputs": [],
   "source": [
    "split_data(source_dir, train_dir, test_dir)"
   ]
  },
  {
   "cell_type": "code",
   "execution_count": 11,
   "id": "78ea677f-2d7b-47ee-a707-ef786b12c427",
   "metadata": {},
   "outputs": [],
   "source": [
    "oversample_dataset(train_dir)"
   ]
  },
  {
   "cell_type": "code",
   "execution_count": 14,
   "id": "d3c7b155-c8c0-443f-b5a3-32beab5e4dec",
   "metadata": {},
   "outputs": [],
   "source": [
    "IMG_HEIGHT = 224\n",
    "IMG_WIDTH = 224\n",
    "BATCH_SIZE = 32"
   ]
  },
  {
   "cell_type": "code",
   "execution_count": 16,
   "id": "719ba854-6617-40b5-813d-4a974abfa31e",
   "metadata": {},
   "outputs": [],
   "source": [
    "train_datagen = ImageDataGenerator(\n",
    "    rescale=1./255,  # Normalize the images\n",
    "    rotation_range=40,\n",
    "    width_shift_range=0.2,\n",
    "    height_shift_range=0.2,\n",
    "    shear_range=0.2,\n",
    "    zoom_range=0.2,\n",
    "    horizontal_flip=True,\n",
    "    brightness_range=[0.8, 1.2],  # Add brightness augmentation\n",
    "    channel_shift_range=0.2,  # Adjust RGB channels\n",
    "    fill_mode='nearest'\n",
    ")\n",
    "\n",
    "test_datagen = ImageDataGenerator(rescale=1./255)\n"
   ]
  },
  {
   "cell_type": "code",
   "execution_count": 19,
   "id": "94b09a3b-a795-4e6d-beb8-b74b9541e7d0",
   "metadata": {},
   "outputs": [
    {
     "name": "stdout",
     "output_type": "stream",
     "text": [
      "Found 12000 images belonging to 8 classes.\n",
      "Found 1270 images belonging to 8 classes.\n"
     ]
    }
   ],
   "source": [
    "train_generator = train_datagen.flow_from_directory(\n",
    "    '/Users/pavan/Downloads/minor dataset/plantvillage dataset/train',  # Path to the training set\n",
    "    target_size=(IMG_HEIGHT, IMG_WIDTH),\n",
    "    batch_size=BATCH_SIZE,\n",
    "    class_mode='categorical'\n",
    ")\n",
    "\n",
    "# Load test data (no augmentation)\n",
    "test_generator = test_datagen.flow_from_directory(\n",
    "    '/Users/pavan/Downloads/minor dataset/plantvillage dataset/test',  # Path to the test set\n",
    "    target_size=(IMG_HEIGHT, IMG_WIDTH),\n",
    "    batch_size=BATCH_SIZE,\n",
    "    class_mode='categorical'\n",
    ")"
   ]
  },
  {
   "cell_type": "code",
   "execution_count": null,
   "id": "467b82e3-140b-44da-9fc0-322de6c86fd3",
   "metadata": {},
   "outputs": [],
   "source": []
  },
  {
   "cell_type": "code",
   "execution_count": 20,
   "id": "3ad27d13-c69b-400e-bc7f-35300c90c14c",
   "metadata": {},
   "outputs": [],
   "source": [
    "# For Model Building !!!"
   ]
  },
  {
   "cell_type": "code",
   "execution_count": 21,
   "id": "03b35cc7-7bd1-4c31-8627-2e8785e19c04",
   "metadata": {},
   "outputs": [],
   "source": [
    "import tensorflow as tf\n",
    "from tensorflow.keras.applications import InceptionV3\n",
    "from tensorflow.keras.models import Model\n",
    "from tensorflow.keras.layers import Dense, GlobalAveragePooling2D, Attention, Concatenate, Reshape, Multiply\n",
    "from tensorflow.keras import layers"
   ]
  },
  {
   "cell_type": "code",
   "execution_count": 23,
   "id": "708d3aba-ab02-459f-8a0a-8f3c96b68b5a",
   "metadata": {},
   "outputs": [],
   "source": [
    "# Load the pre-trained GoogleNet (InceptionV3) model\n",
    "base_model = InceptionV3(weights='imagenet', include_top=False, input_shape=(IMG_HEIGHT, IMG_WIDTH, 3))\n",
    "\n",
    "# Extract features from the base model\n",
    "x = base_model.output\n",
    "x = GlobalAveragePooling2D()(x)\n",
    "\n",
    "# Define attention mechanism\n",
    "def attention_module(x):\n",
    "    # Define the attention layer\n",
    "    attention_probs = Dense(x.shape[-1], activation='softmax')(x)\n",
    "    attention_mul = Multiply()([x, attention_probs])\n",
    "    return attention_mul\n",
    "\n",
    "# Apply the attention module\n",
    "x = attention_module(x)\n",
    "x = Dense(1024, activation='relu')(x)\n",
    "predictions = Dense(train_generator.num_classes, activation='softmax')(x)  # Number of classes"
   ]
  },
  {
   "cell_type": "code",
   "execution_count": 24,
   "id": "a05543e7-4275-46d6-b4af-333295e89b1e",
   "metadata": {},
   "outputs": [],
   "source": [
    "# Create the Model\n",
    "model = Model(inputs=base_model.input, outputs=predictions)"
   ]
  },
  {
   "cell_type": "code",
   "execution_count": null,
   "id": "2d0cf69d-f51a-406b-9702-69179507d7a5",
   "metadata": {},
   "outputs": [],
   "source": [
    "# Compile the model\n",
    "model.compile(\n",
    "    optimizer=tf.keras.optimizers.Adam(learning_rate=0.0001),\n",
    "    loss='categorical_crossentropy',\n",
    "    metrics=['accuracy']\n",
    ")"
   ]
  },
  {
   "cell_type": "code",
   "execution_count": null,
   "id": "6488b851-2476-47ab-a5cb-6ec42d508234",
   "metadata": {},
   "outputs": [],
   "source": []
  },
  {
   "cell_type": "code",
   "execution_count": null,
   "id": "55c5e7a0-d573-422c-8e91-ddeb4e9827dc",
   "metadata": {},
   "outputs": [],
   "source": []
  },
  {
   "cell_type": "code",
   "execution_count": null,
   "id": "0f15ee59-b780-466b-a6e7-d571e4bb5c1f",
   "metadata": {},
   "outputs": [],
   "source": []
  },
  {
   "cell_type": "code",
   "execution_count": null,
   "id": "e5c9ca8b-25a9-4140-9a29-706b53e5a47d",
   "metadata": {},
   "outputs": [],
   "source": []
  },
  {
   "cell_type": "code",
   "execution_count": null,
   "id": "6a7cdc3e-7b62-4160-b398-365724afe2fa",
   "metadata": {},
   "outputs": [],
   "source": []
  },
  {
   "cell_type": "code",
   "execution_count": null,
   "id": "b6521879-aba1-4876-8ef8-934f61c23adf",
   "metadata": {},
   "outputs": [],
   "source": []
  },
  {
   "cell_type": "code",
   "execution_count": null,
   "id": "bf873d63-df05-4b15-8948-a07a9c4ab1c6",
   "metadata": {},
   "outputs": [],
   "source": []
  }
 ],
 "metadata": {
  "kernelspec": {
   "display_name": "Python 3 (ipykernel)",
   "language": "python",
   "name": "python3"
  },
  "language_info": {
   "codemirror_mode": {
    "name": "ipython",
    "version": 3
   },
   "file_extension": ".py",
   "mimetype": "text/x-python",
   "name": "python",
   "nbconvert_exporter": "python",
   "pygments_lexer": "ipython3",
   "version": "3.11.9"
  }
 },
 "nbformat": 4,
 "nbformat_minor": 5
}
